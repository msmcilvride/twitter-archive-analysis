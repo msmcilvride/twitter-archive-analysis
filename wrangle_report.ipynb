{
 "cells": [
  {
   "cell_type": "markdown",
   "metadata": {},
   "source": [
    "In the world of Twitter, WeRateDogs is a popular account known for posting fun pictures of dogs with humerous appraisals with scores that are almost always about 100%. For this project, I used data from WeRateDogs to practice wrangling and analyzing.\n",
    "\n",
    "Three files were involved with this process: \n",
    "- 'twitter-archive-enhanced.csv' was easy to import, as it was provided manually.\n",
    "- 'image_predictions.csv' was a little trickier, as it needed to be programmatically imported to the project.\n",
    "- 'tweet_json.txt' was the hardest to import, as it involved connecting to the Twitter API and programmatically grabbing extra metadata for each tweet we had in the archive.\n",
    "\n",
    "Importing this data was informative, as each file has a unique method of retrieval and parsing. Considering how much can go wrong when recreating an environment, it is important to make sure as much of your process is programmatic and reproducible.\n",
    "\n",
    "There was a lot to be cleaned in the data, as with most data sets in the wild. In no particular order, a number of things to look out for in any data set:\n",
    "- Make sure your data types are correct. Strings should be objects, numbers should be an appropriate numeric type if they are operable and objects if they are not (such as if they are IDs, zip codes, etc). I have noticed that pandas does not play nice with datetimes, and they need to be fixed after import.\n",
    "- Make sure you are encoding correctly! This one can save you major headaches and is very simple to do.\n",
    "- Fields with human input will always be messy. There are a number of standard things to check for: bad encoding, leftover symbol characters (ie '\"&amp;\"'), capitalization, spelling mistakes, and different number forms (1 or one) to name a few.\n",
    "- Check for fields than can be melted down. This seems to happen more often that I would have thought and can be caught with a visual overview.\n",
    "\n",
    "I found that there was some churn in this project, as I expect there will be in future projects. By churn I mean that after I cleaned the data, I moved on to find insights only to discover that I need to go back and fix something new. In some cases, I simply wanted to go back and further modify data that was already correct, but not yet useful for an analysis I wanted to run."
   ]
  },
  {
   "cell_type": "code",
   "execution_count": null,
   "metadata": {},
   "outputs": [],
   "source": []
  }
 ],
 "metadata": {
  "kernelspec": {
   "display_name": "Python 3",
   "language": "python",
   "name": "python3"
  },
  "language_info": {
   "codemirror_mode": {
    "name": "ipython",
    "version": 3
   },
   "file_extension": ".py",
   "mimetype": "text/x-python",
   "name": "python",
   "nbconvert_exporter": "python",
   "pygments_lexer": "ipython3",
   "version": "3.6.3"
  }
 },
 "nbformat": 4,
 "nbformat_minor": 2
}
