{
 "cells": [
  {
   "cell_type": "code",
   "execution_count": 6,
   "metadata": {},
   "outputs": [],
   "source": [
    "import json\n",
    "import matplotlib.pyplot as plt\n",
    "import numpy as np\n",
    "import pandas as pd\n",
    "import requests\n",
    "import seaborn as sns\n",
    "import tweepy\n",
    "\n",
    "%matplotlib inline"
   ]
  },
  {
   "cell_type": "code",
   "execution_count": 7,
   "metadata": {},
   "outputs": [],
   "source": [
    "df = pd.read_csv('twitter_archive_master.csv')"
   ]
  },
  {
   "cell_type": "markdown",
   "metadata": {},
   "source": [
    "First, we'll take a look at the activity of WeRateDogs. We can see that the account started off with a very high number of tweets, but soon found a sustainable rhythm. For the past few years, the number of tweets has been slowly trending downward."
   ]
  },
  {
   "cell_type": "code",
   "execution_count": 18,
   "metadata": {},
   "outputs": [
    {
     "data": {
      "image/png": "[encoded data removed]",
      "text/plain": [
       "<matplotlib.figure.Figure at 0x7f2bf3d53550>"
      ]
     },
     "metadata": {},
     "output_type": "display_data"
    }
   ],
   "source": [
    "df['timestamp'].astype('datetime64[ns]').hist(xrot=90);\n",
    "plt.title('Tweets Over Time');"
   ]
  },
  {
   "cell_type": "markdown",
   "metadata": {},
   "source": [
    "This is an interesting finding that begs for some follow up. What caused the enormous drop in activity, and why did the number of tweets stabilize? When we dive deeper, we can see that despite the number of tweets going down, the average popularity of each tweet goes up. We would want to explore this from more angles before making absolute statements, but we can tentatively conclude that the number of tweets went down because the account grew more popular and simply didn't need to tweet as much."
   ]
  },
  {
   "cell_type": "code",
   "execution_count": 19,
   "metadata": {},
   "outputs": [
    {
     "data": {
      "image/png": "[encoded data removed]",
      "text/plain": [
       "<matplotlib.figure.Figure at 0x7f2bf3cf5cf8>"
      ]
     },
     "metadata": {},
     "output_type": "display_data"
    }
   ],
   "source": [
    "plt.scatter(x=df['tweet_id'], y=df['favorite_count']);"
   ]
  },
  {
   "cell_type": "markdown",
   "metadata": {},
   "source": [
    "WeRateDogs is known for its humerous rating of dogs, specifically that the ratings are almost always above 100%. We can combine the numerators and denominators to see what the average rating looks like. We can see that, despite hyperbolous ratings, the average tends to be only slightly higher than 1. The max is a whopping 177."
   ]
  },
  {
   "cell_type": "code",
   "execution_count": 13,
   "metadata": {},
   "outputs": [
    {
     "data": {
      "text/plain": [
       "count    2069.000000\n",
       "mean        1.169591\n",
       "std         3.992727\n",
       "min         0.000000\n",
       "25%         1.000000\n",
       "50%         1.100000\n",
       "75%         1.200000\n",
       "max       177.600000\n",
       "Name: score, dtype: float64"
      ]
     },
     "execution_count": 13,
     "metadata": {},
     "output_type": "execute_result"
    }
   ],
   "source": [
    "df['score'] = df['rating_numerator'] / df['rating_denominator']\n",
    "\n",
    "df['score'].describe()"
   ]
  },
  {
   "cell_type": "markdown",
   "metadata": {},
   "source": [
    "I would also like to look at the descriptions to see if any are favored. We can see that most dogs are classified as 'puppers' (I would have guessed 'doggos'. 'Floofer' is hardly ever used at all."
   ]
  },
  {
   "cell_type": "code",
   "execution_count": 14,
   "metadata": {},
   "outputs": [
    {
     "data": {
      "text/plain": [
       "pupper     231\n",
       "doggo       75\n",
       "puppo       29\n",
       "floofer      3\n",
       "Name: dog_description, dtype: int64"
      ]
     },
     "execution_count": 14,
     "metadata": {},
     "output_type": "execute_result"
    }
   ],
   "source": [
    "df['dog_description'].value_counts()"
   ]
  },
  {
   "cell_type": "markdown",
   "metadata": {},
   "source": [
    "In a similar vein, and for my own personal curiosity, I would like to see how popular each dog name is! We can see that names like Charlie, Penny, and Oliver are common, as we could probably expect. The names with only one instance can be pretty fun, like Michelangelope, Chuq, and Enchilada."
   ]
  },
  {
   "cell_type": "code",
   "execution_count": 17,
   "metadata": {},
   "outputs": [
    {
     "data": {
      "text/plain": [
       "Charlie           11\n",
       "Penny             10\n",
       "Oliver            10\n",
       "Lucy              10\n",
       "Tucker            10\n",
       "Cooper            10\n",
       "Sadie              8\n",
       "Winston            8\n",
       "Bo                 8\n",
       "Lola               8\n",
       "Daisy              7\n",
       "Toby               7\n",
       "Stanley            6\n",
       "Koda               6\n",
       "Milo               6\n",
       "Bella              6\n",
       "Dave               6\n",
       "Rusty              6\n",
       "Jax                6\n",
       "Scout              6\n",
       "Bailey             6\n",
       "Buddy              5\n",
       "Chester            5\n",
       "Oscar              5\n",
       "Alfie              5\n",
       "Larry              5\n",
       "Louis              5\n",
       "Leo                5\n",
       "Derek              4\n",
       "Gus                4\n",
       "                  ..\n",
       "Charl              1\n",
       "Ralphé             1\n",
       "Snoopy             1\n",
       "Robin              1\n",
       "Amy                1\n",
       "Dante              1\n",
       "Tassy              1\n",
       "Brat               1\n",
       "Willem             1\n",
       "Clifford           1\n",
       "Pinot              1\n",
       "Michelangelope     1\n",
       "Kaiya              1\n",
       "Blue               1\n",
       "Edd                1\n",
       "Bodie              1\n",
       "Aja                1\n",
       "Chuq               1\n",
       "Jo                 1\n",
       "Jaspers            1\n",
       "Colin              1\n",
       "Shnuggles          1\n",
       "Steve              1\n",
       "Enchilada          1\n",
       "Anakin             1\n",
       "Tessa              1\n",
       "Mya                1\n",
       "Charleson          1\n",
       "Sundance           1\n",
       "Aiden              1\n",
       "Name: name, Length: 913, dtype: int64"
      ]
     },
     "execution_count": 17,
     "metadata": {},
     "output_type": "execute_result"
    }
   ],
   "source": [
    "df['name'].value_counts()"
   ]
  },
  {
   "cell_type": "code",
   "execution_count": null,
   "metadata": {},
   "outputs": [],
   "source": []
  }
 ],
 "metadata": {
  "kernelspec": {
   "display_name": "Python 3",
   "language": "python",
   "name": "python3"
  },
  "language_info": {
   "codemirror_mode": {
    "name": "ipython",
    "version": 3
   },
   "file_extension": ".py",
   "mimetype": "text/x-python",
   "name": "python",
   "nbconvert_exporter": "python",
   "pygments_lexer": "ipython3",
   "version": "3.6.3"
  }
 },
 "nbformat": 4,
 "nbformat_minor": 2
}
